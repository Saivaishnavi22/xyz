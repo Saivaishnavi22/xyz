{
  "nbformat": 4,
  "nbformat_minor": 0,
  "metadata": {
    "colab": {
      "provenance": []
    },
    "kernelspec": {
      "name": "python3",
      "display_name": "Python 3"
    },
    "language_info": {
      "name": "python"
    }
  },
  "cells": [
    {
      "cell_type": "code",
      "execution_count": 2,
      "metadata": {
        "id": "eBi_6rW8Hwrt"
      },
      "outputs": [],
      "source": [
        "import pandas as pd\n",
        "import numpy as np\n"
      ]
    },
    {
      "cell_type": "code",
      "source": [
        "from sklearn.model_selection import train_test_split\n",
        "from sklearn.feature_extraction.text import TfidfVectorizer\n",
        "from sklearn.naive_bayes import MultinomialNB\n",
        "from sklearn.metrics import accuracy_score, classification_report\n",
        "from tqdm import tqdm\n",
        "data = pd.read_csv('spam.csv', encoding='latin-1')\n"
      ],
      "metadata": {
        "id": "aMLKuOFdI_aq"
      },
      "execution_count": 7,
      "outputs": []
    },
    {
      "cell_type": "code",
      "source": [
        "data.drop_duplicates(inplace=True)\n",
        "data['label'] = data['v1'].map({'ham': 'ham', 'spam': 'spam'})\n",
        "X = data['v2']\n",
        "y = data['label']\n"
      ],
      "metadata": {
        "id": "EGwo9K4kJRsZ"
      },
      "execution_count": 8,
      "outputs": []
    },
    {
      "cell_type": "code",
      "source": [
        "X_train, X_test, y_train, y_test = train_test_split(X, y, test_size=0.2, random_state=42)\n"
      ],
      "metadata": {
        "id": "lf5jrvY3J-k5"
      },
      "execution_count": 9,
      "outputs": []
    },
    {
      "cell_type": "code",
      "source": [
        "tfidf_vectorizer = TfidfVectorizer()\n",
        "\n",
        "X_train_tfidf = tfidf_vectorizer.fit_transform(X_train)\n"
      ],
      "metadata": {
        "id": "wfaZqszOKCmf"
      },
      "execution_count": 10,
      "outputs": []
    },
    {
      "cell_type": "code",
      "source": [
        "classifier = MultinomialNB()\n",
        "\n",
        "classifier.fit(X_train_tfidf, y_train)\n",
        "\n",
        "X_test_tfidf = tfidf_vectorizer.transform(X_test)\n",
        "\n",
        "y_pred = classifier.predict(X_test_tfidf)\n",
        "\n",
        "accuracy = accuracy_score(y_test, y_pred)\n",
        "\n",
        "report = classification_report(y_test, y_pred, target_names=['Legitimate SMS', 'Spam SMS'])\n",
        "\n",
        "progress_bar = tqdm(total=100, position=0, leave=True)"
      ],
      "metadata": {
        "colab": {
          "base_uri": "https://localhost:8080/"
        },
        "id": "egrpkKkCKIU9",
        "outputId": "175d4cd5-29c2-4521-b157-285e08ff1c88"
      },
      "execution_count": 11,
      "outputs": [
        {
          "output_type": "stream",
          "name": "stderr",
          "text": [
            "\r  0%|          | 0/100 [00:00<?, ?it/s]"
          ]
        }
      ]
    },
    {
      "cell_type": "code",
      "source": [
        "for i in range(10, 101, 10):\n",
        "    progress_bar.update(10)\n",
        "    progress_bar.set_description(f'Progress: {i}%')\n"
      ],
      "metadata": {
        "colab": {
          "base_uri": "https://localhost:8080/"
        },
        "id": "NH2HVOdWKPk1",
        "outputId": "3b6b6924-85a5-4cb3-92ee-d71e522db57d"
      },
      "execution_count": 12,
      "outputs": [
        {
          "output_type": "stream",
          "name": "stderr",
          "text": [
            "Progress: 100%: 100%|██████████| 100/100 [00:24<00:00,  2.43s/it]"
          ]
        }
      ]
    },
    {
      "cell_type": "code",
      "source": [
        "progress_bar.close()\n"
      ],
      "metadata": {
        "colab": {
          "base_uri": "https://localhost:8080/"
        },
        "id": "bfgusCkfKVmM",
        "outputId": "a8e1bf2b-167d-4656-89e5-47878f21f97c"
      },
      "execution_count": 13,
      "outputs": [
        {
          "output_type": "stream",
          "name": "stderr",
          "text": [
            "\rProgress: 100%: 100%|██████████| 100/100 [00:39<00:00,  2.51it/s]\n"
          ]
        }
      ]
    },
    {
      "cell_type": "code",
      "source": [
        "print(f'Accuracy: {accuracy:.2f}')\n"
      ],
      "metadata": {
        "colab": {
          "base_uri": "https://localhost:8080/"
        },
        "id": "-DsedHqSKZDG",
        "outputId": "4f5f58f1-7f8f-4915-917a-7f9988d83b8f"
      },
      "execution_count": 14,
      "outputs": [
        {
          "output_type": "stream",
          "name": "stdout",
          "text": [
            "Accuracy: 0.96\n"
          ]
        }
      ]
    },
    {
      "cell_type": "code",
      "source": [
        "print('Classification Report:')\n",
        "\n",
        "print(report)"
      ],
      "metadata": {
        "colab": {
          "base_uri": "https://localhost:8080/"
        },
        "id": "bMP2MuvZKcoZ",
        "outputId": "10ac4953-ab28-4d4e-da4a-e2812dc76365"
      },
      "execution_count": 15,
      "outputs": [
        {
          "output_type": "stream",
          "name": "stdout",
          "text": [
            "Classification Report:\n",
            "                precision    recall  f1-score   support\n",
            "\n",
            "Legitimate SMS       0.95      1.00      0.97       889\n",
            "      Spam SMS       1.00      0.68      0.81       145\n",
            "\n",
            "      accuracy                           0.96      1034\n",
            "     macro avg       0.98      0.84      0.89      1034\n",
            "  weighted avg       0.96      0.96      0.95      1034\n",
            "\n"
          ]
        }
      ]
    }
  ]
}